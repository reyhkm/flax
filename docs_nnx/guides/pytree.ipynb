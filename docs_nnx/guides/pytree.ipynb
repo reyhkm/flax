{
 "cells": [
  {
   "cell_type": "code",
   "execution_count": 1,
   "id": "9b2b929d",
   "metadata": {},
   "outputs": [],
   "source": [
    "from flax import nnx\n",
    "import jax\n",
    "import jax.numpy as jnp\n",
    "import dataclasses"
   ]
  },
  {
   "cell_type": "markdown",
   "id": "d603fa09",
   "metadata": {},
   "source": [
    "## Pytree"
   ]
  },
  {
   "cell_type": "code",
   "execution_count": 2,
   "id": "95016a94",
   "metadata": {},
   "outputs": [
    {
     "name": "stdout",
     "output_type": "stream",
     "text": [
      "pytree structure:\n",
      "- pytree.b = Array([0., 0.], dtype=float32)\n",
      "- pytree.w = Array([[1., 1.]], dtype=float32)\n"
     ]
    }
   ],
   "source": [
    "class Linear(nnx.Pytree):\n",
    "  def __init__(self, din: int, dout: int):\n",
    "    self.din = din\n",
    "    self.dout = dout\n",
    "    self.w = jnp.ones((din, dout))\n",
    "    self.b = jnp.zeros((dout,))\n",
    "\n",
    "pytree = Linear(1, 2)\n",
    "\n",
    "print(\"pytree structure:\")\n",
    "for path, value in jax.tree.leaves_with_path(pytree):\n",
    "  print(f\"- pytree{jax.tree_util.keystr(path)} = {value!r}\")"
   ]
  },
  {
   "cell_type": "markdown",
   "id": "83032d9f",
   "metadata": {},
   "source": [
    "### Classifying Attributes"
   ]
  },
  {
   "cell_type": "code",
   "execution_count": null,
   "id": "4ff9789a",
   "metadata": {},
   "outputs": [
    {
     "name": "stdout",
     "output_type": "stream",
     "text": [
      "pytree structure:\n",
      "- pytree.ls[0].i = 0\n",
      "- pytree.ls[0].x = Array(0, dtype=int32, weak_type=True)\n",
      "- pytree.ls[1].i = 1\n",
      "- pytree.ls[1].x = Array(42, dtype=int32, weak_type=True)\n",
      "- pytree.ls[2].i = 2\n",
      "- pytree.ls[2].x = Array(84, dtype=int32, weak_type=True)\n"
     ]
    }
   ],
   "source": [
    "class Foo(nnx.Pytree):\n",
    "  def __init__(self, i: int):\n",
    "    self.i = nnx.data(i)  # explicit data\n",
    "    self.s = nnx.static(\"Hi\" + \"!\" * i)  # explicit static\n",
    "    self.x = jnp.array(42 * i)  # auto data\n",
    "    self.a = hash(i)  # auto static\n",
    "\n",
    "class Bar(nnx.Pytree):\n",
    "  def __init__(self):\n",
    "    self.ls = [Foo(i) for i in range(3)]  # auto data\n",
    "    self.shapes = [8, 16, 32]  # auto static\n",
    "\n",
    "pytree = Bar()\n",
    "\n",
    "print(\"pytree structure:\")\n",
    "for path, value in jax.tree.leaves_with_path(pytree):\n",
    "  print(f\"- pytree{jax.tree_util.keystr(path)} = {value!r}\")"
   ]
  },
  {
   "cell_type": "markdown",
   "id": "4912ba91",
   "metadata": {},
   "source": [
    "* mention `nnx.is_data_type`\n",
    "* mention `nnx.register_data_type`"
   ]
  },
  {
   "cell_type": "code",
   "execution_count": 4,
   "id": "9ca77d65",
   "metadata": {},
   "outputs": [
    {
     "name": "stdout",
     "output_type": "stream",
     "text": [
      "pytree structure:\n",
      "- pytree.ls[0].i = 0\n",
      "- pytree.ls[0].x = Array(0, dtype=int32, weak_type=True)\n",
      "- pytree.ls[1].i = 1\n",
      "- pytree.ls[1].x = Array(42, dtype=int32, weak_type=True)\n",
      "- pytree.ls[2].i = 2\n",
      "- pytree.ls[2].x = Array(84, dtype=int32, weak_type=True)\n"
     ]
    }
   ],
   "source": [
    "@dataclasses.dataclass\n",
    "class Foo(nnx.Pytree):\n",
    "  i: nnx.Data[int]\n",
    "  s: nnx.Static[str]\n",
    "  x: jax.Array\n",
    "  a: int\n",
    "\n",
    "@dataclasses.dataclass\n",
    "class Bar(nnx.Pytree):\n",
    "  ls: list[Foo]\n",
    "  shapes: list[int]\n",
    "\n",
    "pytree = Bar(\n",
    "  ls=[Foo(i, \"Hi\" + \"!\" * i, jnp.array(42 * i), hash(i)) for i in range(3)],\n",
    "  shapes=[8, 16, 32]\n",
    ")\n",
    "\n",
    "print(\"pytree structure:\")\n",
    "for path, value in jax.tree.leaves_with_path(pytree):\n",
    "  print(f\"- pytree{jax.tree_util.keystr(path)} = {value!r}\")"
   ]
  },
  {
   "cell_type": "markdown",
   "id": "5ab06e79",
   "metadata": {},
   "source": [
    "#### When to use explicit annotations?"
   ]
  },
  {
   "cell_type": "code",
   "execution_count": null,
   "id": "9e064461",
   "metadata": {},
   "outputs": [
    {
     "name": "stdout",
     "output_type": "stream",
     "text": [
      "pytree structure:\n",
      "- bar.bias.value = Array(0., dtype=float32, weak_type=True)\n",
      "- bar.ls[0] = Array(0, dtype=int32, weak_type=True)\n",
      "- bar.ls[1] = Array(1, dtype=int32, weak_type=True)\n",
      "- bar.ls[2] = Array(2, dtype=int32, weak_type=True)\n",
      "- bar.x = 1.0\n"
     ]
    }
   ],
   "source": [
    "class Bar(nnx.Pytree):\n",
    "  def __init__(self, x, num_layers: int, use_bias: bool):\n",
    "    self.x = nnx.data(x)  # force inputs (e.g. user could pass Array or ShapeDtypeStruct)\n",
    "    self.ls = nnx.data([ # on potentially empty pytrees (e.g. num_layers = 0)\n",
    "      jnp.array(i) for i in range(num_layers)\n",
    "    ])\n",
    "    if use_bias:\n",
    "      self.bias = nnx.Param(jnp.array(0.0))\n",
    "    else:\n",
    "      self.bias = nnx.data(None)  # on empty pytrees\n",
    "\n",
    "bar = Bar(1.0, 3, True)\n",
    "\n",
    "print(\"pytree structure:\")\n",
    "for path, value in jax.tree.leaves_with_path(bar):\n",
    "  print(f\"- bar{jax.tree_util.keystr(path)} = {value!r}\")"
   ]
  },
  {
   "cell_type": "markdown",
   "id": "452915ac",
   "metadata": {},
   "source": [
    "#### Trace-level awareness"
   ]
  },
  {
   "cell_type": "code",
   "execution_count": 11,
   "id": "668db479",
   "metadata": {},
   "outputs": [
    {
     "name": "stdout",
     "output_type": "stream",
     "text": [
      "Error: Cannot mutate 'Foo' from different trace level (https://flax.readthedocs.io/en/latest/api_reference/flax.errors.html#flax.errors.TraceContextError)\n"
     ]
    }
   ],
   "source": [
    "class Foo(nnx.Pytree):\n",
    "  def __init__(self):\n",
    "    self.count = nnx.data(0)\n",
    "\n",
    "foo = Foo()\n",
    "\n",
    "@jax.vmap  # or jit, grad, shard_map, pmap, scan, etc.\n",
    "def increment(n):\n",
    "  foo.count += 1\n",
    "\n",
    "try:\n",
    "  increment(jnp.arange(5))\n",
    "except Exception as e:\n",
    "  print(f\"Error: {e}\")"
   ]
  },
  {
   "cell_type": "markdown",
   "id": "17fd41f5",
   "metadata": {},
   "source": [
    "### Post `__init__` attribute checks"
   ]
  },
  {
   "cell_type": "code",
   "execution_count": null,
   "id": "628698dd",
   "metadata": {},
   "outputs": [
    {
     "name": "stdout",
     "output_type": "stream",
     "text": [
      "num nodes before: 0\n",
      "num nodes after: 5\n"
     ]
    }
   ],
   "source": [
    "class Foo(nnx.Pytree):\n",
    "  def __init__(self):\n",
    "    self.ls = []  # no data when setting the attribute!!\n",
    "    for i in range(5):\n",
    "      self.ls.append(jnp.array(i))\n",
    "\n",
    "    print(\"num nodes before:\", len(jax.tree.leaves(self)))  # ls is not data\n",
    "\n",
    "foo = Foo()  # attributes checked after __init__ is done\n",
    "\n",
    "print(\"num nodes after:\", len(jax.tree.leaves(foo)))  # ls added as data"
   ]
  },
  {
   "cell_type": "markdown",
   "id": "bfaf17de",
   "metadata": {},
   "source": [
    "## Module"
   ]
  },
  {
   "cell_type": "markdown",
   "id": "bfba41f9",
   "metadata": {},
   "source": [
    "### set_attributes"
   ]
  },
  {
   "cell_type": "code",
   "execution_count": 28,
   "id": "f26e0e69",
   "metadata": {},
   "outputs": [
    {
     "name": "stdout",
     "output_type": "stream",
     "text": [
      "train:\n",
      "  model.mode = 1\n",
      "  model.bn.use_running_average = False\n",
      "  model.dropout.deterministic = False\n",
      "eval:\n",
      "  model.mode = 2\n",
      "  model.bn.use_running_average = True\n",
      "  model.dropout.deterministic = True\n"
     ]
    }
   ],
   "source": [
    "class Block(nnx.Module):\n",
    "  def __init__(self, din: int, dout: int, rngs: nnx.Rngs):\n",
    "    self.mode = 1\n",
    "    self.linear = nnx.Linear(din, dout, rngs=rngs)\n",
    "    self.bn = nnx.BatchNorm(dout, rngs=rngs)\n",
    "    self.dropout = nnx.Dropout(0.1, rngs=rngs)\n",
    "\n",
    "  def __call__(self, x):\n",
    "    return nnx.relu(self.dropout(self.bn(self.linear(x))))\n",
    "  \n",
    "model = Block(din=1, dout=2, rngs=nnx.Rngs(0))\n",
    "\n",
    "print(\"train:\")\n",
    "print(f\"  {model.mode = }\")\n",
    "print(f\"  {model.bn.use_running_average = }\")\n",
    "print(f\"  {model.dropout.deterministic = }\")\n",
    "\n",
    "# Set attributes for evaluation\n",
    "model.set_attributes(deterministic=True, use_running_average=True, mode=2)\n",
    "\n",
    "print(\"eval:\")\n",
    "print(f\"  {model.mode = }\")\n",
    "print(f\"  {model.bn.use_running_average = }\")\n",
    "print(f\"  {model.dropout.deterministic = }\")"
   ]
  },
  {
   "cell_type": "code",
   "execution_count": null,
   "id": "a1a7dfff",
   "metadata": {},
   "outputs": [
    {
     "name": "stdout",
     "output_type": "stream",
     "text": [
      "eval:\n",
      "  model.mode = 2\n",
      "  model.bn.use_running_average = True\n",
      "  model.dropout.deterministic = True\n",
      "train:\n",
      "  model.mode = 1\n",
      "  model.bn.use_running_average = False\n",
      "  model.dropout.deterministic = False\n"
     ]
    }
   ],
   "source": [
    "model = Block(din=1, dout=2, rngs=nnx.Rngs(0))\n",
    "\n",
    "model.eval(mode=2)  # .set_attributes(deterministic=True, use_running_average=True, mode=2)\n",
    "print(\"eval:\")\n",
    "print(f\"  {model.mode = }\")\n",
    "print(f\"  {model.bn.use_running_average = }\")\n",
    "print(f\"  {model.dropout.deterministic = }\")\n",
    "\n",
    "model.train(mode=1)  # .set_attributes(deterministic=False, use_running_average=False, mode=1)\n",
    "print(\"train:\")\n",
    "print(f\"  {model.mode = }\")\n",
    "print(f\"  {model.bn.use_running_average = }\")\n",
    "print(f\"  {model.dropout.deterministic = }\")"
   ]
  },
  {
   "cell_type": "markdown",
   "id": "cc5afc70",
   "metadata": {},
   "source": [
    "### sow"
   ]
  },
  {
   "cell_type": "code",
   "execution_count": null,
   "id": "ca9f58a2",
   "metadata": {},
   "outputs": [
    {
     "name": "stdout",
     "output_type": "stream",
     "text": [
      "\u001b[38;2;79;201;177mState\u001b[0m\u001b[38;2;255;213;3m({\u001b[0m\u001b[38;2;105;105;105m\u001b[0m\n",
      "  \u001b[38;2;156;220;254m'blocks'\u001b[0m\u001b[38;2;212;212;212m: \u001b[0m\u001b[38;2;255;213;3m{\u001b[0m\u001b[38;2;105;105;105m\u001b[0m\n",
      "    \u001b[38;2;156;220;254m0\u001b[0m\u001b[38;2;212;212;212m: \u001b[0m\u001b[38;2;255;213;3m{\u001b[0m\u001b[38;2;105;105;105m\u001b[0m\n",
      "      \u001b[38;2;156;220;254m'y_mean'\u001b[0m\u001b[38;2;212;212;212m: \u001b[0m\u001b[38;2;79;201;177mIntermediate\u001b[0m\u001b[38;2;255;213;3m(\u001b[0m\u001b[38;2;105;105;105m # 1 (4 B)\u001b[0m\n",
      "        \u001b[38;2;156;220;254mvalue\u001b[0m\u001b[38;2;212;212;212m=\u001b[0m\u001b[38;2;255;213;3m(\u001b[0mArray(4.659754e-06, dtype=float32),\u001b[38;2;255;213;3m)\u001b[0m\n",
      "      \u001b[38;2;255;213;3m)\u001b[0m\n",
      "    \u001b[38;2;255;213;3m}\u001b[0m,\n",
      "    \u001b[38;2;156;220;254m1\u001b[0m\u001b[38;2;212;212;212m: \u001b[0m\u001b[38;2;255;213;3m{\u001b[0m\u001b[38;2;105;105;105m\u001b[0m\n",
      "      \u001b[38;2;156;220;254m'y_mean'\u001b[0m\u001b[38;2;212;212;212m: \u001b[0m\u001b[38;2;79;201;177mIntermediate\u001b[0m\u001b[38;2;255;213;3m(\u001b[0m\u001b[38;2;105;105;105m # 1 (4 B)\u001b[0m\n",
      "        \u001b[38;2;156;220;254mvalue\u001b[0m\u001b[38;2;212;212;212m=\u001b[0m\u001b[38;2;255;213;3m(\u001b[0mArray(0.00025933, dtype=float32),\u001b[38;2;255;213;3m)\u001b[0m\n",
      "      \u001b[38;2;255;213;3m)\u001b[0m\n",
      "    \u001b[38;2;255;213;3m}\u001b[0m,\n",
      "    \u001b[38;2;156;220;254m2\u001b[0m\u001b[38;2;212;212;212m: \u001b[0m\u001b[38;2;255;213;3m{\u001b[0m\u001b[38;2;105;105;105m\u001b[0m\n",
      "      \u001b[38;2;156;220;254m'y_mean'\u001b[0m\u001b[38;2;212;212;212m: \u001b[0m\u001b[38;2;79;201;177mIntermediate\u001b[0m\u001b[38;2;255;213;3m(\u001b[0m\u001b[38;2;105;105;105m # 1 (4 B)\u001b[0m\n",
      "        \u001b[38;2;156;220;254mvalue\u001b[0m\u001b[38;2;212;212;212m=\u001b[0m\u001b[38;2;255;213;3m(\u001b[0mArray(0.05561922, dtype=float32),\u001b[38;2;255;213;3m)\u001b[0m\n",
      "      \u001b[38;2;255;213;3m)\u001b[0m\n",
      "    \u001b[38;2;255;213;3m}\u001b[0m\n",
      "  \u001b[38;2;255;213;3m}\u001b[0m\n",
      "\u001b[38;2;255;213;3m})\u001b[0m\n"
     ]
    }
   ],
   "source": [
    "class Block(nnx.Module):\n",
    "  def __init__(self, din: int, dout: int, rngs: nnx.Rngs):\n",
    "    self.linear = nnx.Linear(din, dout, rngs=rngs)\n",
    "    self.bn = nnx.BatchNorm(dout, rngs=rngs)\n",
    "    self.dropout = nnx.Dropout(0.1, rngs=rngs)\n",
    "\n",
    "  def __call__(self, x):\n",
    "    y = nnx.relu(self.dropout(self.bn(self.linear(x))))\n",
    "    self.sow(nnx.Intermediate, \"y_mean\", jnp.mean(y))\n",
    "    return y\n",
    "\n",
    "class MLP(nnx.Module):\n",
    "  def __init__(self, num_layers, dim, rngs: nnx.Rngs):\n",
    "    self.blocks = [Block(dim, dim, rngs) for _ in range(num_layers)]\n",
    "\n",
    "  def __call__(self, x):\n",
    "    for block in self.blocks:\n",
    "      x = block(x)\n",
    "    return x\n",
    "\n",
    "\n",
    "model = MLP(num_layers=3, dim=20, rngs=nnx.Rngs(0))\n",
    "x = jnp.ones((10, 20))\n",
    "y = model(x)\n",
    "intermediates = nnx.pop(model, nnx.Intermediate) # extract intermediate values\n",
    "\n",
    "print(intermediates)"
   ]
  }
 ],
 "metadata": {
  "jupytext": {
   "formats": "ipynb,md:myst"
  },
  "language_info": {
   "codemirror_mode": {
    "name": "ipython",
    "version": 3
   },
   "file_extension": ".py",
   "mimetype": "text/x-python",
   "name": "python",
   "nbconvert_exporter": "python",
   "pygments_lexer": "ipython3",
   "version": "3.11.9"
  }
 },
 "nbformat": 4,
 "nbformat_minor": 5
}
